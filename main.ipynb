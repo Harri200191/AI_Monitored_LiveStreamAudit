{
 "cells": [
  {
   "attachments": {},
   "cell_type": "markdown",
   "metadata": {},
   "source": [
    "# Testing pre-trained models"
   ]
  },
  {
   "attachments": {},
   "cell_type": "markdown",
   "metadata": {},
   "source": [
    "### Model # 1"
   ]
  },
  {
   "cell_type": "code",
   "execution_count": 36,
   "metadata": {},
   "outputs": [],
   "source": [
    "import cv2\n",
    "import numpy as np \n",
    "from PIL import Image\n",
    "import time"
   ]
  },
  {
   "cell_type": "code",
   "execution_count": 24,
   "metadata": {},
   "outputs": [
    {
     "name": "stderr",
     "output_type": "stream",
     "text": [
      "Could not find image processor class in the image processor config or the model config. Loading based on pattern matching with the model's feature extractor configuration.\n",
      "The `max_size` parameter is deprecated and will be removed in v4.26. Please specify in `size['longest_edge'] instead`.\n"
     ]
    }
   ],
   "source": [
    "from transformers import pipeline\n",
    "pipe = pipeline(\"object-detection\", model=\"valentinafeve/yolos-fashionpedia\")"
   ]
  },
  {
   "cell_type": "code",
   "execution_count": 34,
   "metadata": {},
   "outputs": [
    {
     "data": {
      "text/plain": [
       "[{'score': 0.9643442630767822,\n",
       "  'label': 'sleeve',\n",
       "  'box': {'xmin': 786, 'ymin': 181, 'xmax': 896, 'ymax': 496}},\n",
       " {'score': 0.9950535893440247,\n",
       "  'label': 'sleeve',\n",
       "  'box': {'xmin': 517, 'ymin': 208, 'xmax': 624, 'ymax': 537}}]"
      ]
     },
     "execution_count": 34,
     "metadata": {},
     "output_type": "execute_result"
    }
   ],
   "source": [
    "pipe(\"temp_frame.jpg\")"
   ]
  },
  {
   "cell_type": "code",
   "execution_count": 35,
   "metadata": {},
   "outputs": [
    {
     "data": {
      "text/plain": [
       "[{'score': 0.9653264880180359,\n",
       "  'label': 'shoe',\n",
       "  'box': {'xmin': 81, 'ymin': 512, 'xmax': 111, 'ymax': 578}},\n",
       " {'score': 0.9268865585327148,\n",
       "  'label': 'shoe',\n",
       "  'box': {'xmin': 105, 'ymin': 525, 'xmax': 129, 'ymax': 569}},\n",
       " {'score': 0.9727214574813843,\n",
       "  'label': 'sleeve',\n",
       "  'box': {'xmin': 117, 'ymin': 108, 'xmax': 181, 'ymax': 266}},\n",
       " {'score': 0.984233021736145,\n",
       "  'label': 'sleeve',\n",
       "  'box': {'xmin': 14, 'ymin': 123, 'xmax': 86, 'ymax': 238}}]"
      ]
     },
     "execution_count": 35,
     "metadata": {},
     "output_type": "execute_result"
    }
   ],
   "source": [
    "pipe(\"test.png\")"
   ]
  },
  {
   "cell_type": "code",
   "execution_count": 46,
   "metadata": {},
   "outputs": [
    {
     "name": "stdout",
     "output_type": "stream",
     "text": [
      "[{'score': 0.9696283936500549, 'label': 'sleeve', 'box': {'xmin': 166, 'ymin': 472, 'xmax': 242, 'ymax': 672}}, {'score': 0.9190516471862793, 'label': 'shoe', 'box': {'xmin': 345, 'ymin': 851, 'xmax': 411, 'ymax': 919}}]\n",
      "[{'score': 0.9685527086257935, 'label': 'sleeve', 'box': {'xmin': 166, 'ymin': 473, 'xmax': 241, 'ymax': 672}}, {'score': 0.9073960781097412, 'label': 'shoe', 'box': {'xmin': 345, 'ymin': 851, 'xmax': 411, 'ymax': 918}}]\n",
      "[{'score': 0.9760302305221558, 'label': 'sleeve', 'box': {'xmin': 167, 'ymin': 475, 'xmax': 240, 'ymax': 680}}, {'score': 0.9733465313911438, 'label': 'sleeve', 'box': {'xmin': 322, 'ymin': 475, 'xmax': 400, 'ymax': 672}}]\n",
      "[{'score': 0.9776043891906738, 'label': 'sleeve', 'box': {'xmin': 167, 'ymin': 475, 'xmax': 242, 'ymax': 680}}, {'score': 0.9568054676055908, 'label': 'sleeve', 'box': {'xmin': 323, 'ymin': 475, 'xmax': 399, 'ymax': 670}}]\n",
      "[{'score': 0.9576045274734497, 'label': 'sleeve', 'box': {'xmin': 171, 'ymin': 483, 'xmax': 246, 'ymax': 675}}, {'score': 0.9303553700447083, 'label': 'sleeve', 'box': {'xmin': 310, 'ymin': 479, 'xmax': 388, 'ymax': 673}}, {'score': 0.9498324990272522, 'label': 'sleeve', 'box': {'xmin': 323, 'ymin': 489, 'xmax': 387, 'ymax': 654}}]\n",
      "[{'score': 0.9600133299827576, 'label': 'sleeve', 'box': {'xmin': 172, 'ymin': 482, 'xmax': 245, 'ymax': 674}}, {'score': 0.9222478866577148, 'label': 'sleeve', 'box': {'xmin': 310, 'ymin': 479, 'xmax': 388, 'ymax': 673}}, {'score': 0.9509568214416504, 'label': 'sleeve', 'box': {'xmin': 324, 'ymin': 490, 'xmax': 387, 'ymax': 653}}]\n",
      "[{'score': 0.9726067781448364, 'label': 'sleeve', 'box': {'xmin': 174, 'ymin': 476, 'xmax': 245, 'ymax': 685}}, {'score': 0.9023132920265198, 'label': 'sleeve', 'box': {'xmin': 310, 'ymin': 493, 'xmax': 391, 'ymax': 655}}]\n",
      "[{'score': 0.9726817607879639, 'label': 'sleeve', 'box': {'xmin': 173, 'ymin': 476, 'xmax': 245, 'ymax': 686}}, {'score': 0.9408459663391113, 'label': 'sleeve', 'box': {'xmin': 311, 'ymin': 491, 'xmax': 390, 'ymax': 655}}]\n",
      "[{'score': 0.9854000210762024, 'label': 'sleeve', 'box': {'xmin': 174, 'ymin': 475, 'xmax': 250, 'ymax': 689}}, {'score': 0.9011056423187256, 'label': 'sleeve', 'box': {'xmin': 342, 'ymin': 490, 'xmax': 421, 'ymax': 721}}, {'score': 0.9082322120666504, 'label': 'sleeve', 'box': {'xmin': 322, 'ymin': 488, 'xmax': 395, 'ymax': 698}}]\n",
      "[{'score': 0.9847266674041748, 'label': 'sleeve', 'box': {'xmin': 174, 'ymin': 475, 'xmax': 249, 'ymax': 689}}, {'score': 0.9207285046577454, 'label': 'sleeve', 'box': {'xmin': 322, 'ymin': 488, 'xmax': 394, 'ymax': 696}}]\n",
      "[{'score': 0.9731630682945251, 'label': 'sleeve', 'box': {'xmin': 172, 'ymin': 473, 'xmax': 249, 'ymax': 692}}, {'score': 0.9509000182151794, 'label': 'sleeve', 'box': {'xmin': 313, 'ymin': 490, 'xmax': 390, 'ymax': 657}}]\n",
      "[{'score': 0.9754568338394165, 'label': 'sleeve', 'box': {'xmin': 173, 'ymin': 472, 'xmax': 249, 'ymax': 692}}, {'score': 0.9506070613861084, 'label': 'sleeve', 'box': {'xmin': 315, 'ymin': 491, 'xmax': 390, 'ymax': 660}}]\n",
      "[{'score': 0.9725271463394165, 'label': 'sleeve', 'box': {'xmin': 174, 'ymin': 475, 'xmax': 250, 'ymax': 690}}, {'score': 0.9819247722625732, 'label': 'sleeve', 'box': {'xmin': 329, 'ymin': 489, 'xmax': 392, 'ymax': 665}}]\n",
      "[{'score': 0.9736700057983398, 'label': 'sleeve', 'box': {'xmin': 174, 'ymin': 475, 'xmax': 252, 'ymax': 690}}, {'score': 0.9822138547897339, 'label': 'sleeve', 'box': {'xmin': 328, 'ymin': 489, 'xmax': 392, 'ymax': 664}}]\n",
      "[{'score': 0.9735672473907471, 'label': 'sleeve', 'box': {'xmin': 174, 'ymin': 475, 'xmax': 252, 'ymax': 690}}, {'score': 0.9820689558982849, 'label': 'sleeve', 'box': {'xmin': 328, 'ymin': 489, 'xmax': 392, 'ymax': 664}}]\n",
      "[{'score': 0.9615140557289124, 'label': 'sleeve', 'box': {'xmin': 176, 'ymin': 478, 'xmax': 253, 'ymax': 683}}, {'score': 0.9222440123558044, 'label': 'sleeve', 'box': {'xmin': 341, 'ymin': 487, 'xmax': 389, 'ymax': 620}}, {'score': 0.9253190159797668, 'label': 'sleeve', 'box': {'xmin': 336, 'ymin': 487, 'xmax': 392, 'ymax': 639}}]\n",
      "[{'score': 0.9695585370063782, 'label': 'sleeve', 'box': {'xmin': 178, 'ymin': 478, 'xmax': 249, 'ymax': 690}}, {'score': 0.9587888121604919, 'label': 'sleeve', 'box': {'xmin': 334, 'ymin': 494, 'xmax': 399, 'ymax': 652}}]\n",
      "[{'score': 0.9687331318855286, 'label': 'sleeve', 'box': {'xmin': 178, 'ymin': 479, 'xmax': 249, 'ymax': 692}}, {'score': 0.9585974812507629, 'label': 'sleeve', 'box': {'xmin': 334, 'ymin': 494, 'xmax': 399, 'ymax': 652}}]\n",
      "[{'score': 0.9857386350631714, 'label': 'sleeve', 'box': {'xmin': 179, 'ymin': 480, 'xmax': 256, 'ymax': 696}}, {'score': 0.9571384191513062, 'label': 'sleeve', 'box': {'xmin': 329, 'ymin': 493, 'xmax': 399, 'ymax': 656}}]\n",
      "[{'score': 0.9843692779541016, 'label': 'sleeve', 'box': {'xmin': 179, 'ymin': 479, 'xmax': 256, 'ymax': 697}}, {'score': 0.9634348750114441, 'label': 'sleeve', 'box': {'xmin': 331, 'ymin': 492, 'xmax': 399, 'ymax': 655}}]\n",
      "[{'score': 0.987808346748352, 'label': 'sleeve', 'box': {'xmin': 180, 'ymin': 479, 'xmax': 269, 'ymax': 696}}, {'score': 0.9530141949653625, 'label': 'sleeve', 'box': {'xmin': 342, 'ymin': 492, 'xmax': 414, 'ymax': 689}}]\n",
      "[{'score': 0.9796155691146851, 'label': 'sleeve', 'box': {'xmin': 181, 'ymin': 480, 'xmax': 265, 'ymax': 701}}, {'score': 0.9729337096214294, 'label': 'sleeve', 'box': {'xmin': 329, 'ymin': 491, 'xmax': 419, 'ymax': 691}}]\n",
      "[{'score': 0.9839814305305481, 'label': 'sleeve', 'box': {'xmin': 181, 'ymin': 480, 'xmax': 264, 'ymax': 705}}, {'score': 0.9692831635475159, 'label': 'sleeve', 'box': {'xmin': 331, 'ymin': 493, 'xmax': 417, 'ymax': 694}}]\n",
      "[{'score': 0.9787712693214417, 'label': 'sleeve', 'box': {'xmin': 181, 'ymin': 478, 'xmax': 262, 'ymax': 703}}, {'score': 0.9358042478561401, 'label': 'sleeve', 'box': {'xmin': 325, 'ymin': 497, 'xmax': 409, 'ymax': 672}}]\n",
      "[{'score': 0.9786745309829712, 'label': 'sleeve', 'box': {'xmin': 181, 'ymin': 478, 'xmax': 262, 'ymax': 703}}, {'score': 0.9413752555847168, 'label': 'sleeve', 'box': {'xmin': 326, 'ymin': 497, 'xmax': 409, 'ymax': 672}}]\n",
      "[{'score': 0.9741409420967102, 'label': 'sleeve', 'box': {'xmin': 182, 'ymin': 477, 'xmax': 266, 'ymax': 689}}, {'score': 0.9395239353179932, 'label': 'sleeve', 'box': {'xmin': 329, 'ymin': 495, 'xmax': 418, 'ymax': 686}}, {'score': 0.9045294523239136, 'label': 'sleeve', 'box': {'xmin': 309, 'ymin': 483, 'xmax': 417, 'ymax': 679}}]\n",
      "[{'score': 0.9724254608154297, 'label': 'sleeve', 'box': {'xmin': 178, 'ymin': 478, 'xmax': 267, 'ymax': 697}}, {'score': 0.9643208980560303, 'label': 'sleeve', 'box': {'xmin': 323, 'ymin': 498, 'xmax': 419, 'ymax': 686}}, {'score': 0.911710798740387, 'label': 'skirt', 'box': {'xmin': 84, 'ymin': 637, 'xmax': 620, 'ymax': 1348}}]\n",
      "[{'score': 0.9720239043235779, 'label': 'sleeve', 'box': {'xmin': 178, 'ymin': 478, 'xmax': 266, 'ymax': 697}}, {'score': 0.9651885628700256, 'label': 'sleeve', 'box': {'xmin': 323, 'ymin': 498, 'xmax': 419, 'ymax': 686}}, {'score': 0.9129870533943176, 'label': 'skirt', 'box': {'xmin': 83, 'ymin': 637, 'xmax': 618, 'ymax': 1347}}]\n",
      "[{'score': 0.9147183895111084, 'label': 'sleeve', 'box': {'xmin': 275, 'ymin': 546, 'xmax': 363, 'ymax': 743}}, {'score': 0.9392081499099731, 'label': 'shoe', 'box': {'xmin': 421, 'ymin': 1235, 'xmax': 459, 'ymax': 1349}}, {'score': 0.9916724562644958, 'label': 'shoe', 'box': {'xmin': 421, 'ymin': 1214, 'xmax': 463, 'ymax': 1343}}, {'score': 0.9675843715667725, 'label': 'sleeve', 'box': {'xmin': 269, 'ymin': 556, 'xmax': 347, 'ymax': 748}}, {'score': 0.9779079556465149, 'label': 'shoe', 'box': {'xmin': 389, 'ymin': 1221, 'xmax': 417, 'ymax': 1310}}, {'score': 0.9923661351203918, 'label': 'sleeve', 'box': {'xmin': 450, 'ymin': 583, 'xmax': 496, 'ymax': 839}}]\n",
      "[{'score': 0.9089773297309875, 'label': 'sleeve', 'box': {'xmin': 275, 'ymin': 546, 'xmax': 364, 'ymax': 743}}, {'score': 0.9257694482803345, 'label': 'shoe', 'box': {'xmin': 421, 'ymin': 1235, 'xmax': 459, 'ymax': 1349}}, {'score': 0.9920580983161926, 'label': 'shoe', 'box': {'xmin': 421, 'ymin': 1214, 'xmax': 463, 'ymax': 1342}}, {'score': 0.9690819382667542, 'label': 'sleeve', 'box': {'xmin': 269, 'ymin': 556, 'xmax': 347, 'ymax': 748}}, {'score': 0.9789358377456665, 'label': 'shoe', 'box': {'xmin': 389, 'ymin': 1221, 'xmax': 417, 'ymax': 1310}}, {'score': 0.9923263788223267, 'label': 'sleeve', 'box': {'xmin': 449, 'ymin': 583, 'xmax': 496, 'ymax': 838}}]\n",
      "[{'score': 0.9940073490142822, 'label': 'shoe', 'box': {'xmin': 421, 'ymin': 1212, 'xmax': 463, 'ymax': 1341}}, {'score': 0.9758210778236389, 'label': 'sleeve', 'box': {'xmin': 269, 'ymin': 556, 'xmax': 347, 'ymax': 747}}, {'score': 0.9804192185401917, 'label': 'shoe', 'box': {'xmin': 388, 'ymin': 1220, 'xmax': 417, 'ymax': 1309}}, {'score': 0.9909327030181885, 'label': 'sleeve', 'box': {'xmin': 447, 'ymin': 582, 'xmax': 496, 'ymax': 837}}]\n",
      "[{'score': 0.9941452741622925, 'label': 'shoe', 'box': {'xmin': 422, 'ymin': 1209, 'xmax': 463, 'ymax': 1339}}, {'score': 0.9864990711212158, 'label': 'sleeve', 'box': {'xmin': 269, 'ymin': 555, 'xmax': 347, 'ymax': 745}}, {'score': 0.9623262882232666, 'label': 'shoe', 'box': {'xmin': 387, 'ymin': 1221, 'xmax': 416, 'ymax': 1309}}, {'score': 0.9906072616577148, 'label': 'sleeve', 'box': {'xmin': 447, 'ymin': 580, 'xmax': 496, 'ymax': 839}}]\n",
      "[{'score': 0.9942522644996643, 'label': 'shoe', 'box': {'xmin': 423, 'ymin': 1209, 'xmax': 463, 'ymax': 1340}}, {'score': 0.9861608743667603, 'label': 'sleeve', 'box': {'xmin': 269, 'ymin': 555, 'xmax': 347, 'ymax': 745}}, {'score': 0.9573593139648438, 'label': 'shoe', 'box': {'xmin': 387, 'ymin': 1222, 'xmax': 416, 'ymax': 1309}}, {'score': 0.9903703331947327, 'label': 'sleeve', 'box': {'xmin': 447, 'ymin': 580, 'xmax': 496, 'ymax': 839}}]\n",
      "[{'score': 0.9940956830978394, 'label': 'shoe', 'box': {'xmin': 424, 'ymin': 1209, 'xmax': 464, 'ymax': 1340}}, {'score': 0.9827786087989807, 'label': 'sleeve', 'box': {'xmin': 269, 'ymin': 554, 'xmax': 349, 'ymax': 746}}, {'score': 0.9588122367858887, 'label': 'shoe', 'box': {'xmin': 387, 'ymin': 1220, 'xmax': 416, 'ymax': 1310}}, {'score': 0.9912132620811462, 'label': 'sleeve', 'box': {'xmin': 449, 'ymin': 580, 'xmax': 496, 'ymax': 838}}]\n",
      "[{'score': 0.9943881630897522, 'label': 'shoe', 'box': {'xmin': 424, 'ymin': 1209, 'xmax': 464, 'ymax': 1340}}, {'score': 0.983207106590271, 'label': 'sleeve', 'box': {'xmin': 269, 'ymin': 554, 'xmax': 348, 'ymax': 747}}, {'score': 0.9600958228111267, 'label': 'shoe', 'box': {'xmin': 387, 'ymin': 1219, 'xmax': 417, 'ymax': 1310}}, {'score': 0.9909870028495789, 'label': 'sleeve', 'box': {'xmin': 449, 'ymin': 581, 'xmax': 496, 'ymax': 838}}]\n",
      "[{'score': 0.9941044449806213, 'label': 'shoe', 'box': {'xmin': 425, 'ymin': 1209, 'xmax': 464, 'ymax': 1340}}, {'score': 0.9842314720153809, 'label': 'sleeve', 'box': {'xmin': 269, 'ymin': 554, 'xmax': 348, 'ymax': 746}}, {'score': 0.9370301961898804, 'label': 'shoe', 'box': {'xmin': 386, 'ymin': 1219, 'xmax': 416, 'ymax': 1309}}, {'score': 0.9916368126869202, 'label': 'sleeve', 'box': {'xmin': 448, 'ymin': 580, 'xmax': 495, 'ymax': 838}}]\n",
      "[{'score': 0.9948655962944031, 'label': 'shoe', 'box': {'xmin': 424, 'ymin': 1211, 'xmax': 464, 'ymax': 1342}}, {'score': 0.9847615957260132, 'label': 'sleeve', 'box': {'xmin': 269, 'ymin': 552, 'xmax': 348, 'ymax': 745}}, {'score': 0.9476437568664551, 'label': 'shoe', 'box': {'xmin': 386, 'ymin': 1218, 'xmax': 417, 'ymax': 1309}}, {'score': 0.9908009171485901, 'label': 'sleeve', 'box': {'xmin': 448, 'ymin': 579, 'xmax': 494, 'ymax': 841}}]\n",
      "[{'score': 0.9948306679725647, 'label': 'shoe', 'box': {'xmin': 425, 'ymin': 1211, 'xmax': 464, 'ymax': 1342}}, {'score': 0.985230028629303, 'label': 'sleeve', 'box': {'xmin': 269, 'ymin': 552, 'xmax': 348, 'ymax': 745}}, {'score': 0.9465500712394714, 'label': 'shoe', 'box': {'xmin': 386, 'ymin': 1218, 'xmax': 417, 'ymax': 1308}}, {'score': 0.9907681345939636, 'label': 'sleeve', 'box': {'xmin': 447, 'ymin': 579, 'xmax': 494, 'ymax': 841}}]\n",
      "[{'score': 0.9949963092803955, 'label': 'shoe', 'box': {'xmin': 424, 'ymin': 1211, 'xmax': 463, 'ymax': 1343}}, {'score': 0.9836132526397705, 'label': 'sleeve', 'box': {'xmin': 269, 'ymin': 555, 'xmax': 348, 'ymax': 745}}, {'score': 0.9555848240852356, 'label': 'shoe', 'box': {'xmin': 385, 'ymin': 1219, 'xmax': 416, 'ymax': 1307}}, {'score': 0.990755021572113, 'label': 'sleeve', 'box': {'xmin': 446, 'ymin': 578, 'xmax': 494, 'ymax': 845}}]\n",
      "[{'score': 0.9949294328689575, 'label': 'shoe', 'box': {'xmin': 424, 'ymin': 1211, 'xmax': 463, 'ymax': 1343}}, {'score': 0.982653796672821, 'label': 'sleeve', 'box': {'xmin': 269, 'ymin': 555, 'xmax': 348, 'ymax': 745}}, {'score': 0.9658037424087524, 'label': 'shoe', 'box': {'xmin': 385, 'ymin': 1219, 'xmax': 416, 'ymax': 1307}}, {'score': 0.9910116195678711, 'label': 'sleeve', 'box': {'xmin': 446, 'ymin': 578, 'xmax': 494, 'ymax': 844}}]\n",
      "[{'score': 0.9942777752876282, 'label': 'shoe', 'box': {'xmin': 423, 'ymin': 1211, 'xmax': 462, 'ymax': 1343}}, {'score': 0.989669144153595, 'label': 'sleeve', 'box': {'xmin': 268, 'ymin': 557, 'xmax': 346, 'ymax': 742}}, {'score': 0.9803629517555237, 'label': 'shoe', 'box': {'xmin': 385, 'ymin': 1218, 'xmax': 415, 'ymax': 1307}}, {'score': 0.9894608855247498, 'label': 'sleeve', 'box': {'xmin': 443, 'ymin': 577, 'xmax': 493, 'ymax': 849}}]\n",
      "[{'score': 0.9927417039871216, 'label': 'shoe', 'box': {'xmin': 423, 'ymin': 1214, 'xmax': 463, 'ymax': 1346}}, {'score': 0.9848052859306335, 'label': 'sleeve', 'box': {'xmin': 269, 'ymin': 557, 'xmax': 345, 'ymax': 745}}, {'score': 0.9787225127220154, 'label': 'shoe', 'box': {'xmin': 385, 'ymin': 1211, 'xmax': 414, 'ymax': 1305}}, {'score': 0.9901112914085388, 'label': 'sleeve', 'box': {'xmin': 440, 'ymin': 574, 'xmax': 492, 'ymax': 855}}]\n",
      "[{'score': 0.992712140083313, 'label': 'shoe', 'box': {'xmin': 423, 'ymin': 1214, 'xmax': 463, 'ymax': 1345}}, {'score': 0.9844985604286194, 'label': 'sleeve', 'box': {'xmin': 269, 'ymin': 557, 'xmax': 345, 'ymax': 745}}, {'score': 0.9782866835594177, 'label': 'shoe', 'box': {'xmin': 385, 'ymin': 1211, 'xmax': 414, 'ymax': 1305}}, {'score': 0.9901782274246216, 'label': 'sleeve', 'box': {'xmin': 440, 'ymin': 574, 'xmax': 492, 'ymax': 855}}]\n",
      "[{'score': 0.9914762377738953, 'label': 'shoe', 'box': {'xmin': 422, 'ymin': 1222, 'xmax': 463, 'ymax': 1347}}, {'score': 0.9815284013748169, 'label': 'sleeve', 'box': {'xmin': 269, 'ymin': 557, 'xmax': 346, 'ymax': 746}}, {'score': 0.9810143113136292, 'label': 'shoe', 'box': {'xmin': 386, 'ymin': 1216, 'xmax': 415, 'ymax': 1306}}, {'score': 0.9868284463882446, 'label': 'sleeve', 'box': {'xmin': 441, 'ymin': 571, 'xmax': 492, 'ymax': 862}}]\n",
      "[{'score': 0.9916285276412964, 'label': 'shoe', 'box': {'xmin': 422, 'ymin': 1224, 'xmax': 463, 'ymax': 1347}}, {'score': 0.9843751788139343, 'label': 'sleeve', 'box': {'xmin': 269, 'ymin': 557, 'xmax': 346, 'ymax': 745}}, {'score': 0.9799994230270386, 'label': 'shoe', 'box': {'xmin': 386, 'ymin': 1216, 'xmax': 415, 'ymax': 1305}}, {'score': 0.9868370294570923, 'label': 'sleeve', 'box': {'xmin': 442, 'ymin': 571, 'xmax': 492, 'ymax': 862}}]\n",
      "[{'score': 0.9895050525665283, 'label': 'shoe', 'box': {'xmin': 422, 'ymin': 1237, 'xmax': 463, 'ymax': 1349}}, {'score': 0.9880282878875732, 'label': 'sleeve', 'box': {'xmin': 269, 'ymin': 561, 'xmax': 346, 'ymax': 745}}, {'score': 0.9833065867424011, 'label': 'shoe', 'box': {'xmin': 387, 'ymin': 1217, 'xmax': 418, 'ymax': 1306}}, {'score': 0.9868380427360535, 'label': 'sleeve', 'box': {'xmin': 440, 'ymin': 566, 'xmax': 491, 'ymax': 866}}]\n",
      "[{'score': 0.9871600866317749, 'label': 'shoe', 'box': {'xmin': 422, 'ymin': 1252, 'xmax': 464, 'ymax': 1351}}, {'score': 0.9889957904815674, 'label': 'sleeve', 'box': {'xmin': 269, 'ymin': 563, 'xmax': 345, 'ymax': 746}}, {'score': 0.980059802532196, 'label': 'shoe', 'box': {'xmin': 388, 'ymin': 1218, 'xmax': 419, 'ymax': 1309}}, {'score': 0.9884229302406311, 'label': 'sleeve', 'box': {'xmin': 441, 'ymin': 562, 'xmax': 492, 'ymax': 871}}]\n",
      "[{'score': 0.9870501756668091, 'label': 'shoe', 'box': {'xmin': 422, 'ymin': 1249, 'xmax': 464, 'ymax': 1351}}, {'score': 0.9889886975288391, 'label': 'sleeve', 'box': {'xmin': 269, 'ymin': 563, 'xmax': 345, 'ymax': 746}}, {'score': 0.9805610775947571, 'label': 'shoe', 'box': {'xmin': 388, 'ymin': 1217, 'xmax': 419, 'ymax': 1308}}, {'score': 0.9884173274040222, 'label': 'sleeve', 'box': {'xmin': 441, 'ymin': 562, 'xmax': 492, 'ymax': 871}}]\n",
      "[{'score': 0.98760986328125, 'label': 'shoe', 'box': {'xmin': 422, 'ymin': 1241, 'xmax': 464, 'ymax': 1350}}, {'score': 0.9858718514442444, 'label': 'sleeve', 'box': {'xmin': 268, 'ymin': 560, 'xmax': 346, 'ymax': 747}}, {'score': 0.9629696607589722, 'label': 'shoe', 'box': {'xmin': 387, 'ymin': 1218, 'xmax': 419, 'ymax': 1310}}, {'score': 0.9899469017982483, 'label': 'sleeve', 'box': {'xmin': 441, 'ymin': 560, 'xmax': 493, 'ymax': 870}}]\n",
      "[{'score': 0.9875127673149109, 'label': 'shoe', 'box': {'xmin': 422, 'ymin': 1240, 'xmax': 464, 'ymax': 1349}}, {'score': 0.9857164025306702, 'label': 'sleeve', 'box': {'xmin': 268, 'ymin': 560, 'xmax': 345, 'ymax': 747}}, {'score': 0.9647356271743774, 'label': 'shoe', 'box': {'xmin': 387, 'ymin': 1218, 'xmax': 419, 'ymax': 1310}}, {'score': 0.989990234375, 'label': 'sleeve', 'box': {'xmin': 441, 'ymin': 560, 'xmax': 493, 'ymax': 870}}]\n",
      "[{'score': 0.9878363013267517, 'label': 'shoe', 'box': {'xmin': 421, 'ymin': 1243, 'xmax': 464, 'ymax': 1349}}, {'score': 0.9824211001396179, 'label': 'sleeve', 'box': {'xmin': 267, 'ymin': 562, 'xmax': 344, 'ymax': 747}}, {'score': 0.9318488836288452, 'label': 'shoe', 'box': {'xmin': 386, 'ymin': 1221, 'xmax': 417, 'ymax': 1311}}, {'score': 0.9901533722877502, 'label': 'sleeve', 'box': {'xmin': 441, 'ymin': 564, 'xmax': 493, 'ymax': 865}}, {'score': 0.9148809313774109, 'label': 'shoe', 'box': {'xmin': 388, 'ymin': 1199, 'xmax': 424, 'ymax': 1302}}]\n",
      "[{'score': 0.9875276684761047, 'label': 'shoe', 'box': {'xmin': 422, 'ymin': 1233, 'xmax': 465, 'ymax': 1346}}, {'score': 0.9847123622894287, 'label': 'sleeve', 'box': {'xmin': 265, 'ymin': 562, 'xmax': 343, 'ymax': 748}}, {'score': 0.9063875675201416, 'label': 'shoe', 'box': {'xmin': 385, 'ymin': 1229, 'xmax': 414, 'ymax': 1311}}, {'score': 0.9903625845909119, 'label': 'sleeve', 'box': {'xmin': 444, 'ymin': 569, 'xmax': 493, 'ymax': 865}}, {'score': 0.9496524930000305, 'label': 'shoe', 'box': {'xmin': 387, 'ymin': 1210, 'xmax': 420, 'ymax': 1302}}]\n",
      "[{'score': 0.9894053339958191, 'label': 'shoe', 'box': {'xmin': 422, 'ymin': 1236, 'xmax': 464, 'ymax': 1349}}, {'score': 0.9853399395942688, 'label': 'sleeve', 'box': {'xmin': 265, 'ymin': 560, 'xmax': 343, 'ymax': 746}}, {'score': 0.9888519644737244, 'label': 'sleeve', 'box': {'xmin': 444, 'ymin': 569, 'xmax': 494, 'ymax': 873}}, {'score': 0.9588176012039185, 'label': 'shoe', 'box': {'xmin': 387, 'ymin': 1213, 'xmax': 419, 'ymax': 1305}}]\n",
      "[{'score': 0.9862026572227478, 'label': 'shoe', 'box': {'xmin': 425, 'ymin': 1227, 'xmax': 465, 'ymax': 1345}}, {'score': 0.9844473600387573, 'label': 'sleeve', 'box': {'xmin': 266, 'ymin': 564, 'xmax': 341, 'ymax': 746}}, {'score': 0.96896892786026, 'label': 'shoe', 'box': {'xmin': 385, 'ymin': 1228, 'xmax': 415, 'ymax': 1314}}, {'score': 0.991513192653656, 'label': 'sleeve', 'box': {'xmin': 444, 'ymin': 569, 'xmax': 494, 'ymax': 871}}, {'score': 0.9111824631690979, 'label': 'shoe', 'box': {'xmin': 387, 'ymin': 1214, 'xmax': 420, 'ymax': 1304}}]\n",
      "[{'score': 0.9861112833023071, 'label': 'shoe', 'box': {'xmin': 425, 'ymin': 1227, 'xmax': 465, 'ymax': 1345}}, {'score': 0.9848769903182983, 'label': 'sleeve', 'box': {'xmin': 266, 'ymin': 564, 'xmax': 341, 'ymax': 746}}, {'score': 0.9693200588226318, 'label': 'shoe', 'box': {'xmin': 385, 'ymin': 1228, 'xmax': 415, 'ymax': 1314}}, {'score': 0.9915061593055725, 'label': 'sleeve', 'box': {'xmin': 444, 'ymin': 568, 'xmax': 494, 'ymax': 871}}, {'score': 0.9089900851249695, 'label': 'shoe', 'box': {'xmin': 387, 'ymin': 1213, 'xmax': 420, 'ymax': 1304}}]\n",
      "[{'score': 0.9841870665550232, 'label': 'shoe', 'box': {'xmin': 425, 'ymin': 1214, 'xmax': 463, 'ymax': 1340}}, {'score': 0.9896969199180603, 'label': 'sleeve', 'box': {'xmin': 265, 'ymin': 565, 'xmax': 338, 'ymax': 748}}, {'score': 0.9826412796974182, 'label': 'shoe', 'box': {'xmin': 384, 'ymin': 1219, 'xmax': 415, 'ymax': 1311}}, {'score': 0.992154061794281, 'label': 'sleeve', 'box': {'xmin': 443, 'ymin': 569, 'xmax': 493, 'ymax': 870}}]\n",
      "[{'score': 0.9806713461875916, 'label': 'shoe', 'box': {'xmin': 423, 'ymin': 1222, 'xmax': 462, 'ymax': 1346}}, {'score': 0.9869697093963623, 'label': 'sleeve', 'box': {'xmin': 262, 'ymin': 564, 'xmax': 337, 'ymax': 756}}, {'score': 0.9634804725646973, 'label': 'shoe', 'box': {'xmin': 380, 'ymin': 1221, 'xmax': 412, 'ymax': 1313}}, {'score': 0.9927484393119812, 'label': 'sleeve', 'box': {'xmin': 442, 'ymin': 571, 'xmax': 492, 'ymax': 868}}, {'score': 0.9649851322174072, 'label': 'shoe', 'box': {'xmin': 382, 'ymin': 1202, 'xmax': 419, 'ymax': 1309}}]\n",
      "[{'score': 0.9802742004394531, 'label': 'shoe', 'box': {'xmin': 423, 'ymin': 1222, 'xmax': 462, 'ymax': 1346}}, {'score': 0.9865803718566895, 'label': 'sleeve', 'box': {'xmin': 262, 'ymin': 564, 'xmax': 337, 'ymax': 756}}, {'score': 0.9623515605926514, 'label': 'shoe', 'box': {'xmin': 380, 'ymin': 1221, 'xmax': 413, 'ymax': 1313}}, {'score': 0.992836058139801, 'label': 'sleeve', 'box': {'xmin': 442, 'ymin': 571, 'xmax': 492, 'ymax': 869}}, {'score': 0.9656946659088135, 'label': 'shoe', 'box': {'xmin': 383, 'ymin': 1202, 'xmax': 419, 'ymax': 1309}}]\n",
      "[{'score': 0.9364535808563232, 'label': 'shoe', 'box': {'xmin': 415, 'ymin': 1262, 'xmax': 455, 'ymax': 1353}}, {'score': 0.956421971321106, 'label': 'shoe', 'box': {'xmin': 419, 'ymin': 1222, 'xmax': 459, 'ymax': 1346}}, {'score': 0.9208572506904602, 'label': 'sleeve', 'box': {'xmin': 262, 'ymin': 561, 'xmax': 338, 'ymax': 760}}, {'score': 0.9714164137840271, 'label': 'shoe', 'box': {'xmin': 380, 'ymin': 1215, 'xmax': 413, 'ymax': 1313}}, {'score': 0.9938889741897583, 'label': 'sleeve', 'box': {'xmin': 441, 'ymin': 570, 'xmax': 490, 'ymax': 866}}, {'score': 0.9565987586975098, 'label': 'shoe', 'box': {'xmin': 382, 'ymin': 1203, 'xmax': 418, 'ymax': 1311}}]\n",
      "[{'score': 0.937330961227417, 'label': 'shoe', 'box': {'xmin': 415, 'ymin': 1262, 'xmax': 455, 'ymax': 1353}}, {'score': 0.9562605023384094, 'label': 'shoe', 'box': {'xmin': 418, 'ymin': 1222, 'xmax': 459, 'ymax': 1346}}, {'score': 0.9107238054275513, 'label': 'sleeve', 'box': {'xmin': 261, 'ymin': 561, 'xmax': 338, 'ymax': 760}}, {'score': 0.9715760350227356, 'label': 'shoe', 'box': {'xmin': 380, 'ymin': 1215, 'xmax': 413, 'ymax': 1313}}, {'score': 0.9938613176345825, 'label': 'sleeve', 'box': {'xmin': 441, 'ymin': 570, 'xmax': 490, 'ymax': 867}}, {'score': 0.9565683603286743, 'label': 'shoe', 'box': {'xmin': 382, 'ymin': 1203, 'xmax': 418, 'ymax': 1311}}]\n",
      "[{'score': 0.9350349307060242, 'label': 'sleeve', 'box': {'xmin': 254, 'ymin': 563, 'xmax': 333, 'ymax': 764}}, {'score': 0.9488033652305603, 'label': 'shoe', 'box': {'xmin': 415, 'ymin': 1257, 'xmax': 454, 'ymax': 1350}}, {'score': 0.9712312817573547, 'label': 'shoe', 'box': {'xmin': 416, 'ymin': 1229, 'xmax': 457, 'ymax': 1344}}, {'score': 0.9326236248016357, 'label': 'sleeve', 'box': {'xmin': 258, 'ymin': 563, 'xmax': 339, 'ymax': 764}}, {'score': 0.98105388879776, 'label': 'shoe', 'box': {'xmin': 381, 'ymin': 1216, 'xmax': 414, 'ymax': 1316}}, {'score': 0.9933866858482361, 'label': 'sleeve', 'box': {'xmin': 438, 'ymin': 570, 'xmax': 489, 'ymax': 867}}]\n",
      "[{'score': 0.982469916343689, 'label': 'sleeve', 'box': {'xmin': 253, 'ymin': 565, 'xmax': 332, 'ymax': 763}}, {'score': 0.9712523221969604, 'label': 'shoe', 'box': {'xmin': 412, 'ymin': 1254, 'xmax': 455, 'ymax': 1350}}, {'score': 0.9824169874191284, 'label': 'shoe', 'box': {'xmin': 415, 'ymin': 1238, 'xmax': 458, 'ymax': 1343}}, {'score': 0.9745882153511047, 'label': 'shoe', 'box': {'xmin': 378, 'ymin': 1225, 'xmax': 410, 'ymax': 1322}}, {'score': 0.9937639832496643, 'label': 'sleeve', 'box': {'xmin': 435, 'ymin': 570, 'xmax': 486, 'ymax': 869}}]\n",
      "[{'score': 0.9824867844581604, 'label': 'sleeve', 'box': {'xmin': 253, 'ymin': 565, 'xmax': 333, 'ymax': 763}}, {'score': 0.9723711609840393, 'label': 'shoe', 'box': {'xmin': 413, 'ymin': 1254, 'xmax': 455, 'ymax': 1350}}, {'score': 0.9816803932189941, 'label': 'shoe', 'box': {'xmin': 415, 'ymin': 1238, 'xmax': 458, 'ymax': 1343}}, {'score': 0.974574625492096, 'label': 'shoe', 'box': {'xmin': 378, 'ymin': 1225, 'xmax': 410, 'ymax': 1322}}, {'score': 0.9936676621437073, 'label': 'sleeve', 'box': {'xmin': 435, 'ymin': 570, 'xmax': 486, 'ymax': 869}}]\n",
      "[{'score': 0.9845241904258728, 'label': 'sleeve', 'box': {'xmin': 251, 'ymin': 565, 'xmax': 331, 'ymax': 766}}, {'score': 0.9883698225021362, 'label': 'shoe', 'box': {'xmin': 412, 'ymin': 1256, 'xmax': 455, 'ymax': 1352}}, {'score': 0.9663041234016418, 'label': 'shoe', 'box': {'xmin': 376, 'ymin': 1226, 'xmax': 408, 'ymax': 1326}}, {'score': 0.994813084602356, 'label': 'sleeve', 'box': {'xmin': 435, 'ymin': 570, 'xmax': 486, 'ymax': 871}}]\n",
      "[{'score': 0.9868103265762329, 'label': 'sleeve', 'box': {'xmin': 251, 'ymin': 565, 'xmax': 331, 'ymax': 766}}, {'score': 0.9884705543518066, 'label': 'shoe', 'box': {'xmin': 412, 'ymin': 1256, 'xmax': 455, 'ymax': 1352}}, {'score': 0.963773250579834, 'label': 'shoe', 'box': {'xmin': 376, 'ymin': 1226, 'xmax': 408, 'ymax': 1326}}, {'score': 0.9947764873504639, 'label': 'sleeve', 'box': {'xmin': 435, 'ymin': 570, 'xmax': 486, 'ymax': 870}}]\n",
      "[{'score': 0.9895651340484619, 'label': 'sleeve', 'box': {'xmin': 250, 'ymin': 563, 'xmax': 330, 'ymax': 767}}, {'score': 0.9366792440414429, 'label': 'shoe', 'box': {'xmin': 414, 'ymin': 1266, 'xmax': 455, 'ymax': 1354}}, {'score': 0.9593334197998047, 'label': 'shoe', 'box': {'xmin': 417, 'ymin': 1257, 'xmax': 459, 'ymax': 1348}}, {'score': 0.9867092967033386, 'label': 'shoe', 'box': {'xmin': 376, 'ymin': 1221, 'xmax': 412, 'ymax': 1333}}, {'score': 0.9000687003135681, 'label': 'shoe', 'box': {'xmin': 409, 'ymin': 1241, 'xmax': 454, 'ymax': 1339}}, {'score': 0.9956380724906921, 'label': 'sleeve', 'box': {'xmin': 433, 'ymin': 573, 'xmax': 484, 'ymax': 866}}]\n",
      "[{'score': 0.9808655977249146, 'label': 'sleeve', 'box': {'xmin': 249, 'ymin': 562, 'xmax': 329, 'ymax': 762}}, {'score': 0.9860355854034424, 'label': 'shoe', 'box': {'xmin': 414, 'ymin': 1264, 'xmax': 454, 'ymax': 1356}}, {'score': 0.9860557317733765, 'label': 'shoe', 'box': {'xmin': 375, 'ymin': 1221, 'xmax': 411, 'ymax': 1328}}, {'score': 0.9960768818855286, 'label': 'sleeve', 'box': {'xmin': 434, 'ymin': 577, 'xmax': 483, 'ymax': 858}}]\n",
      "[{'score': 0.9809181690216064, 'label': 'sleeve', 'box': {'xmin': 249, 'ymin': 562, 'xmax': 329, 'ymax': 762}}, {'score': 0.9859936237335205, 'label': 'shoe', 'box': {'xmin': 414, 'ymin': 1264, 'xmax': 454, 'ymax': 1356}}, {'score': 0.9861944913864136, 'label': 'shoe', 'box': {'xmin': 375, 'ymin': 1221, 'xmax': 411, 'ymax': 1328}}, {'score': 0.9960777163505554, 'label': 'sleeve', 'box': {'xmin': 434, 'ymin': 577, 'xmax': 483, 'ymax': 858}}]\n",
      "[{'score': 0.9832421541213989, 'label': 'sleeve', 'box': {'xmin': 248, 'ymin': 560, 'xmax': 328, 'ymax': 758}}, {'score': 0.9666699171066284, 'label': 'shoe', 'box': {'xmin': 414, 'ymin': 1273, 'xmax': 453, 'ymax': 1360}}, {'score': 0.9855862259864807, 'label': 'shoe', 'box': {'xmin': 374, 'ymin': 1230, 'xmax': 411, 'ymax': 1324}}, {'score': 0.9776599407196045, 'label': 'shoe', 'box': {'xmin': 406, 'ymin': 1256, 'xmax': 454, 'ymax': 1351}}, {'score': 0.9951831698417664, 'label': 'sleeve', 'box': {'xmin': 434, 'ymin': 579, 'xmax': 483, 'ymax': 839}}]\n",
      "[{'score': 0.9833382368087769, 'label': 'sleeve', 'box': {'xmin': 248, 'ymin': 560, 'xmax': 328, 'ymax': 758}}, {'score': 0.96602463722229, 'label': 'shoe', 'box': {'xmin': 415, 'ymin': 1274, 'xmax': 453, 'ymax': 1360}}, {'score': 0.9854229688644409, 'label': 'shoe', 'box': {'xmin': 374, 'ymin': 1230, 'xmax': 412, 'ymax': 1324}}, {'score': 0.9772346019744873, 'label': 'shoe', 'box': {'xmin': 406, 'ymin': 1257, 'xmax': 454, 'ymax': 1351}}, {'score': 0.9950965046882629, 'label': 'sleeve', 'box': {'xmin': 434, 'ymin': 579, 'xmax': 483, 'ymax': 837}}]\n",
      "[{'score': 0.9869504570960999, 'label': 'sleeve', 'box': {'xmin': 248, 'ymin': 560, 'xmax': 327, 'ymax': 755}}, {'score': 0.9790012240409851, 'label': 'shoe', 'box': {'xmin': 375, 'ymin': 1231, 'xmax': 410, 'ymax': 1320}}, {'score': 0.9896221160888672, 'label': 'shoe', 'box': {'xmin': 405, 'ymin': 1254, 'xmax': 454, 'ymax': 1352}}, {'score': 0.9922196865081787, 'label': 'sleeve', 'box': {'xmin': 433, 'ymin': 581, 'xmax': 480, 'ymax': 817}}]\n",
      "[{'score': 0.9927850961685181, 'label': 'sleeve', 'box': {'xmin': 250, 'ymin': 557, 'xmax': 330, 'ymax': 752}}, {'score': 0.9232870936393738, 'label': 'shoe', 'box': {'xmin': 373, 'ymin': 1233, 'xmax': 404, 'ymax': 1322}}, {'score': 0.9880481958389282, 'label': 'shoe', 'box': {'xmin': 403, 'ymin': 1246, 'xmax': 450, 'ymax': 1347}}, {'score': 0.9935830235481262, 'label': 'sleeve', 'box': {'xmin': 433, 'ymin': 579, 'xmax': 480, 'ymax': 819}}]\n",
      "[{'score': 0.992798924446106, 'label': 'sleeve', 'box': {'xmin': 250, 'ymin': 557, 'xmax': 330, 'ymax': 753}}, {'score': 0.9242526888847351, 'label': 'shoe', 'box': {'xmin': 373, 'ymin': 1233, 'xmax': 403, 'ymax': 1322}}, {'score': 0.9877140522003174, 'label': 'shoe', 'box': {'xmin': 403, 'ymin': 1246, 'xmax': 450, 'ymax': 1347}}, {'score': 0.9934903383255005, 'label': 'sleeve', 'box': {'xmin': 433, 'ymin': 579, 'xmax': 480, 'ymax': 821}}]\n",
      "[{'score': 0.9919255375862122, 'label': 'sleeve', 'box': {'xmin': 252, 'ymin': 559, 'xmax': 331, 'ymax': 752}}, {'score': 0.9571457505226135, 'label': 'shoe', 'box': {'xmin': 394, 'ymin': 1261, 'xmax': 443, 'ymax': 1352}}, {'score': 0.9204041957855225, 'label': 'shoe', 'box': {'xmin': 372, 'ymin': 1227, 'xmax': 404, 'ymax': 1320}}, {'score': 0.9740639925003052, 'label': 'shoe', 'box': {'xmin': 399, 'ymin': 1242, 'xmax': 447, 'ymax': 1340}}, {'score': 0.9925534129142761, 'label': 'sleeve', 'box': {'xmin': 431, 'ymin': 579, 'xmax': 478, 'ymax': 835}}]\n",
      "[{'score': 0.9918875098228455, 'label': 'sleeve', 'box': {'xmin': 252, 'ymin': 559, 'xmax': 331, 'ymax': 752}}, {'score': 0.9626601338386536, 'label': 'shoe', 'box': {'xmin': 394, 'ymin': 1261, 'xmax': 443, 'ymax': 1352}}, {'score': 0.9213974475860596, 'label': 'shoe', 'box': {'xmin': 372, 'ymin': 1228, 'xmax': 404, 'ymax': 1320}}, {'score': 0.9744019508361816, 'label': 'shoe', 'box': {'xmin': 400, 'ymin': 1242, 'xmax': 447, 'ymax': 1340}}, {'score': 0.9924841523170471, 'label': 'sleeve', 'box': {'xmin': 430, 'ymin': 579, 'xmax': 478, 'ymax': 835}}]\n",
      "[{'score': 0.9889369010925293, 'label': 'sleeve', 'box': {'xmin': 251, 'ymin': 559, 'xmax': 329, 'ymax': 750}}, {'score': 0.9789465665817261, 'label': 'shoe', 'box': {'xmin': 405, 'ymin': 1261, 'xmax': 446, 'ymax': 1353}}, {'score': 0.9678680300712585, 'label': 'shoe', 'box': {'xmin': 371, 'ymin': 1230, 'xmax': 409, 'ymax': 1318}}, {'score': 0.9926578402519226, 'label': 'sleeve', 'box': {'xmin': 428, 'ymin': 580, 'xmax': 477, 'ymax': 829}}]\n",
      "[{'score': 0.9829142689704895, 'label': 'sleeve', 'box': {'xmin': 251, 'ymin': 558, 'xmax': 327, 'ymax': 748}}, {'score': 0.9910330176353455, 'label': 'shoe', 'box': {'xmin': 402, 'ymin': 1249, 'xmax': 445, 'ymax': 1352}}, {'score': 0.9757522940635681, 'label': 'shoe', 'box': {'xmin': 370, 'ymin': 1228, 'xmax': 406, 'ymax': 1319}}, {'score': 0.9930875897407532, 'label': 'sleeve', 'box': {'xmin': 428, 'ymin': 581, 'xmax': 478, 'ymax': 832}}]\n",
      "[{'score': 0.9830724000930786, 'label': 'sleeve', 'box': {'xmin': 250, 'ymin': 558, 'xmax': 327, 'ymax': 748}}, {'score': 0.9910139441490173, 'label': 'shoe', 'box': {'xmin': 402, 'ymin': 1249, 'xmax': 445, 'ymax': 1352}}, {'score': 0.9757968187332153, 'label': 'shoe', 'box': {'xmin': 370, 'ymin': 1229, 'xmax': 406, 'ymax': 1319}}, {'score': 0.9930323362350464, 'label': 'sleeve', 'box': {'xmin': 428, 'ymin': 581, 'xmax': 478, 'ymax': 832}}]\n",
      "[{'score': 0.9816120266914368, 'label': 'sleeve', 'box': {'xmin': 251, 'ymin': 558, 'xmax': 327, 'ymax': 747}}, {'score': 0.988800048828125, 'label': 'shoe', 'box': {'xmin': 401, 'ymin': 1240, 'xmax': 444, 'ymax': 1351}}, {'score': 0.9738625884056091, 'label': 'shoe', 'box': {'xmin': 370, 'ymin': 1233, 'xmax': 404, 'ymax': 1316}}, {'score': 0.9929350018501282, 'label': 'sleeve', 'box': {'xmin': 430, 'ymin': 584, 'xmax': 478, 'ymax': 836}}]\n",
      "[{'score': 0.9816150069236755, 'label': 'sleeve', 'box': {'xmin': 251, 'ymin': 558, 'xmax': 327, 'ymax': 747}}, {'score': 0.9887092709541321, 'label': 'shoe', 'box': {'xmin': 401, 'ymin': 1240, 'xmax': 444, 'ymax': 1351}}, {'score': 0.973760724067688, 'label': 'shoe', 'box': {'xmin': 370, 'ymin': 1233, 'xmax': 404, 'ymax': 1316}}, {'score': 0.9929503202438354, 'label': 'sleeve', 'box': {'xmin': 430, 'ymin': 584, 'xmax': 478, 'ymax': 836}}]\n",
      "[{'score': 0.9844691157341003, 'label': 'sleeve', 'box': {'xmin': 251, 'ymin': 555, 'xmax': 328, 'ymax': 749}}, {'score': 0.9888558983802795, 'label': 'shoe', 'box': {'xmin': 399, 'ymin': 1234, 'xmax': 443, 'ymax': 1353}}, {'score': 0.9795821905136108, 'label': 'shoe', 'box': {'xmin': 370, 'ymin': 1229, 'xmax': 404, 'ymax': 1316}}, {'score': 0.9935038685798645, 'label': 'sleeve', 'box': {'xmin': 430, 'ymin': 584, 'xmax': 478, 'ymax': 834}}]\n",
      "[{'score': 0.9871832132339478, 'label': 'sleeve', 'box': {'xmin': 250, 'ymin': 554, 'xmax': 327, 'ymax': 752}}, {'score': 0.9912332892417908, 'label': 'shoe', 'box': {'xmin': 397, 'ymin': 1229, 'xmax': 441, 'ymax': 1356}}, {'score': 0.9778732061386108, 'label': 'shoe', 'box': {'xmin': 370, 'ymin': 1222, 'xmax': 406, 'ymax': 1321}}, {'score': 0.9952635765075684, 'label': 'sleeve', 'box': {'xmin': 429, 'ymin': 584, 'xmax': 480, 'ymax': 827}}]\n",
      "[{'score': 0.9882144927978516, 'label': 'sleeve', 'box': {'xmin': 250, 'ymin': 554, 'xmax': 328, 'ymax': 747}}, {'score': 0.9918481111526489, 'label': 'shoe', 'box': {'xmin': 396, 'ymin': 1227, 'xmax': 441, 'ymax': 1355}}, {'score': 0.9796679615974426, 'label': 'shoe', 'box': {'xmin': 370, 'ymin': 1218, 'xmax': 408, 'ymax': 1323}}, {'score': 0.9950982928276062, 'label': 'sleeve', 'box': {'xmin': 429, 'ymin': 582, 'xmax': 481, 'ymax': 832}}]\n",
      "[{'score': 0.9903101325035095, 'label': 'sleeve', 'box': {'xmin': 249, 'ymin': 551, 'xmax': 327, 'ymax': 749}}, {'score': 0.9907185435295105, 'label': 'shoe', 'box': {'xmin': 395, 'ymin': 1240, 'xmax': 441, 'ymax': 1358}}, {'score': 0.9873965382575989, 'label': 'shoe', 'box': {'xmin': 369, 'ymin': 1224, 'xmax': 409, 'ymax': 1334}}, {'score': 0.9953976273536682, 'label': 'sleeve', 'box': {'xmin': 429, 'ymin': 583, 'xmax': 480, 'ymax': 828}}]\n",
      "[{'score': 0.9902295470237732, 'label': 'sleeve', 'box': {'xmin': 249, 'ymin': 551, 'xmax': 327, 'ymax': 749}}, {'score': 0.9901589751243591, 'label': 'shoe', 'box': {'xmin': 395, 'ymin': 1240, 'xmax': 441, 'ymax': 1358}}, {'score': 0.9879360198974609, 'label': 'shoe', 'box': {'xmin': 369, 'ymin': 1224, 'xmax': 409, 'ymax': 1334}}, {'score': 0.9954474568367004, 'label': 'sleeve', 'box': {'xmin': 429, 'ymin': 583, 'xmax': 480, 'ymax': 828}}]\n",
      "[{'score': 0.9910500049591064, 'label': 'sleeve', 'box': {'xmin': 248, 'ymin': 549, 'xmax': 325, 'ymax': 751}}, {'score': 0.9796349406242371, 'label': 'shoe', 'box': {'xmin': 397, 'ymin': 1243, 'xmax': 441, 'ymax': 1358}}, {'score': 0.9902154207229614, 'label': 'shoe', 'box': {'xmin': 370, 'ymin': 1231, 'xmax': 407, 'ymax': 1333}}, {'score': 0.9947118759155273, 'label': 'sleeve', 'box': {'xmin': 428, 'ymin': 582, 'xmax': 481, 'ymax': 842}}]\n",
      "[{'score': 0.9916024804115295, 'label': 'sleeve', 'box': {'xmin': 248, 'ymin': 548, 'xmax': 326, 'ymax': 751}}, {'score': 0.9800177812576294, 'label': 'shoe', 'box': {'xmin': 398, 'ymin': 1246, 'xmax': 441, 'ymax': 1360}}, {'score': 0.9898849725723267, 'label': 'shoe', 'box': {'xmin': 369, 'ymin': 1233, 'xmax': 404, 'ymax': 1329}}, {'score': 0.9955464601516724, 'label': 'sleeve', 'box': {'xmin': 429, 'ymin': 581, 'xmax': 481, 'ymax': 847}}]\n",
      "[{'score': 0.9915643930435181, 'label': 'sleeve', 'box': {'xmin': 248, 'ymin': 548, 'xmax': 326, 'ymax': 751}}, {'score': 0.9801463484764099, 'label': 'shoe', 'box': {'xmin': 398, 'ymin': 1246, 'xmax': 441, 'ymax': 1360}}, {'score': 0.989798903465271, 'label': 'shoe', 'box': {'xmin': 369, 'ymin': 1232, 'xmax': 404, 'ymax': 1329}}, {'score': 0.9955542683601379, 'label': 'sleeve', 'box': {'xmin': 429, 'ymin': 581, 'xmax': 481, 'ymax': 847}}]\n",
      "[{'score': 0.9925462603569031, 'label': 'sleeve', 'box': {'xmin': 248, 'ymin': 549, 'xmax': 325, 'ymax': 748}}, {'score': 0.98811274766922, 'label': 'shoe', 'box': {'xmin': 399, 'ymin': 1247, 'xmax': 441, 'ymax': 1359}}, {'score': 0.9859375357627869, 'label': 'shoe', 'box': {'xmin': 368, 'ymin': 1228, 'xmax': 402, 'ymax': 1319}}, {'score': 0.9957310557365417, 'label': 'sleeve', 'box': {'xmin': 429, 'ymin': 580, 'xmax': 478, 'ymax': 852}}]\n",
      "[{'score': 0.9926061630249023, 'label': 'sleeve', 'box': {'xmin': 248, 'ymin': 549, 'xmax': 325, 'ymax': 748}}, {'score': 0.9880654811859131, 'label': 'shoe', 'box': {'xmin': 399, 'ymin': 1247, 'xmax': 441, 'ymax': 1359}}, {'score': 0.9859232902526855, 'label': 'shoe', 'box': {'xmin': 368, 'ymin': 1228, 'xmax': 402, 'ymax': 1319}}, {'score': 0.9956921935081482, 'label': 'sleeve', 'box': {'xmin': 428, 'ymin': 580, 'xmax': 478, 'ymax': 852}}]\n",
      "[{'score': 0.9927355051040649, 'label': 'sleeve', 'box': {'xmin': 248, 'ymin': 547, 'xmax': 323, 'ymax': 749}}, {'score': 0.9852762818336487, 'label': 'shoe', 'box': {'xmin': 397, 'ymin': 1249, 'xmax': 440, 'ymax': 1356}}, {'score': 0.9833694100379944, 'label': 'shoe', 'box': {'xmin': 369, 'ymin': 1232, 'xmax': 405, 'ymax': 1321}}, {'score': 0.995510458946228, 'label': 'sleeve', 'box': {'xmin': 429, 'ymin': 579, 'xmax': 480, 'ymax': 861}}]\n",
      "[{'score': 0.9918755292892456, 'label': 'sleeve', 'box': {'xmin': 246, 'ymin': 545, 'xmax': 323, 'ymax': 748}}, {'score': 0.9184069633483887, 'label': 'shoe', 'box': {'xmin': 395, 'ymin': 1244, 'xmax': 440, 'ymax': 1352}}, {'score': 0.9839615821838379, 'label': 'shoe', 'box': {'xmin': 369, 'ymin': 1236, 'xmax': 405, 'ymax': 1321}}, {'score': 0.9960706233978271, 'label': 'sleeve', 'box': {'xmin': 429, 'ymin': 577, 'xmax': 480, 'ymax': 859}}]\n",
      "[{'score': 0.9918503165245056, 'label': 'sleeve', 'box': {'xmin': 246, 'ymin': 545, 'xmax': 323, 'ymax': 748}}, {'score': 0.9417905807495117, 'label': 'shoe', 'box': {'xmin': 395, 'ymin': 1243, 'xmax': 441, 'ymax': 1352}}, {'score': 0.9836336970329285, 'label': 'shoe', 'box': {'xmin': 369, 'ymin': 1237, 'xmax': 405, 'ymax': 1321}}, {'score': 0.9960693120956421, 'label': 'sleeve', 'box': {'xmin': 429, 'ymin': 577, 'xmax': 480, 'ymax': 859}}]\n",
      "[{'score': 0.9917744994163513, 'label': 'sleeve', 'box': {'xmin': 244, 'ymin': 547, 'xmax': 323, 'ymax': 748}}, {'score': 0.9735894203186035, 'label': 'shoe', 'box': {'xmin': 396, 'ymin': 1244, 'xmax': 441, 'ymax': 1351}}, {'score': 0.9819254875183105, 'label': 'shoe', 'box': {'xmin': 368, 'ymin': 1232, 'xmax': 402, 'ymax': 1318}}, {'score': 0.9954115748405457, 'label': 'sleeve', 'box': {'xmin': 429, 'ymin': 577, 'xmax': 479, 'ymax': 849}}]\n",
      "[{'score': 0.9916468858718872, 'label': 'sleeve', 'box': {'xmin': 244, 'ymin': 547, 'xmax': 323, 'ymax': 748}}, {'score': 0.9708517789840698, 'label': 'shoe', 'box': {'xmin': 396, 'ymin': 1244, 'xmax': 441, 'ymax': 1350}}, {'score': 0.9813565015792847, 'label': 'shoe', 'box': {'xmin': 368, 'ymin': 1232, 'xmax': 402, 'ymax': 1318}}, {'score': 0.9953372478485107, 'label': 'sleeve', 'box': {'xmin': 429, 'ymin': 577, 'xmax': 479, 'ymax': 849}}]\n",
      "[{'score': 0.9916685819625854, 'label': 'sleeve', 'box': {'xmin': 244, 'ymin': 548, 'xmax': 322, 'ymax': 746}}, {'score': 0.982165515422821, 'label': 'shoe', 'box': {'xmin': 396, 'ymin': 1220, 'xmax': 442, 'ymax': 1345}}, {'score': 0.9805168509483337, 'label': 'shoe', 'box': {'xmin': 369, 'ymin': 1228, 'xmax': 403, 'ymax': 1319}}, {'score': 0.9948527216911316, 'label': 'sleeve', 'box': {'xmin': 430, 'ymin': 577, 'xmax': 484, 'ymax': 842}}]\n",
      "[{'score': 0.9910396933555603, 'label': 'sleeve', 'box': {'xmin': 244, 'ymin': 547, 'xmax': 321, 'ymax': 743}}, {'score': 0.9854924082756042, 'label': 'shoe', 'box': {'xmin': 396, 'ymin': 1214, 'xmax': 441, 'ymax': 1342}}, {'score': 0.9768838286399841, 'label': 'shoe', 'box': {'xmin': 369, 'ymin': 1228, 'xmax': 404, 'ymax': 1323}}, {'score': 0.9938231706619263, 'label': 'sleeve', 'box': {'xmin': 429, 'ymin': 576, 'xmax': 481, 'ymax': 841}}]\n",
      "[{'score': 0.9911022186279297, 'label': 'sleeve', 'box': {'xmin': 244, 'ymin': 547, 'xmax': 321, 'ymax': 743}}, {'score': 0.9856221079826355, 'label': 'shoe', 'box': {'xmin': 396, 'ymin': 1214, 'xmax': 441, 'ymax': 1342}}, {'score': 0.9767172336578369, 'label': 'shoe', 'box': {'xmin': 369, 'ymin': 1228, 'xmax': 404, 'ymax': 1323}}, {'score': 0.9937828183174133, 'label': 'sleeve', 'box': {'xmin': 429, 'ymin': 576, 'xmax': 481, 'ymax': 841}}]\n",
      "Video OK! No Inappropriate Content Detected\n"
     ]
    }
   ],
   "source": [
    "def classify_image(img_array):\n",
    "    predictions = pipe(img_array)\n",
    "    decoded_predictions =  predictions\n",
    "    return decoded_predictions   \n",
    " \n",
    "\n",
    "def draw_boxes_on_frame(frame, predictions):\n",
    "    for prediction in predictions:\n",
    "        label = prediction['label']\n",
    "        box = prediction['box']\n",
    " \n",
    "        xmin, ymin, xmax, ymax = box['xmin'], box['ymin'], box['xmax'], box['ymax'] \n",
    "        cv2.rectangle(frame, (xmin, ymin), (xmax, ymax), (0, 255, 0), 2) \n",
    "        label_text = f'{label}: {prediction[\"score\"]:.2f}'\n",
    "        cv2.putText(frame, label_text, (xmin, ymin - 10), cv2.FONT_HERSHEY_SIMPLEX, 0.5, (0, 255, 0), 2)\n",
    "\n",
    "    return frame\n",
    "\n",
    "def classify_video(video_path):\n",
    "    cap = cv2.VideoCapture(video_path)\n",
    "    \n",
    "    frame_interval = 1.5   \n",
    "    last_prediction_time = time.time()\n",
    "\n",
    "    while cap.isOpened():\n",
    "        ret, frame = cap.read()\n",
    "\n",
    "        if not ret:\n",
    "            break\n",
    "\n",
    "        current_time = time.time()\n",
    "\n",
    "        if current_time - last_prediction_time >= frame_interval:\n",
    "            pil_image = Image.fromarray(np.uint8(frame)) \n",
    "            predicted_class = classify_image(pil_image)   \n",
    "\n",
    "            print(predicted_class)\n",
    "\n",
    "            frame_with_boxes = draw_boxes_on_frame(frame.copy(), predicted_class)\n",
    "            cv2.imshow('Video with Bounding Boxes', frame_with_boxes)\n",
    " \n",
    "            last_prediction_time = current_time\n",
    "   \n",
    "        if cv2.waitKey(25) & 0xFF == ord('q'):\n",
    "            break\n",
    " \n",
    "    cap.release()\n",
    "    cv2.destroyAllWindows() \n",
    "    print(\"Video OK! No Inappropriate Content Detected\")\n",
    "\n",
    "video_path = 'final_test3.mp4' \n",
    "classify_video(video_path)"
   ]
  },
  {
   "cell_type": "code",
   "execution_count": null,
   "metadata": {},
   "outputs": [],
   "source": []
  },
  {
   "attachments": {},
   "cell_type": "markdown",
   "metadata": {},
   "source": [
    "### Model # 2"
   ]
  },
  {
   "cell_type": "code",
   "execution_count": 1,
   "metadata": {},
   "outputs": [
    {
     "name": "stderr",
     "output_type": "stream",
     "text": [
      "c:\\Users\\haris\\miniconda3\\envs\\forPyTorch\\Lib\\site-packages\\tqdm\\auto.py:21: TqdmWarning: IProgress not found. Please update jupyter and ipywidgets. See https://ipywidgets.readthedocs.io/en/stable/user_install.html\n",
      "  from .autonotebook import tqdm as notebook_tqdm\n",
      "Could not find image processor class in the image processor config or the model config. Loading based on pattern matching with the model's feature extractor configuration.\n"
     ]
    }
   ],
   "source": [
    "from transformers import pipeline\n",
    "pipe = pipeline(\"zero-shot-image-classification\", model=\"patrickjohncyh/fashion-clip\")"
   ]
  },
  {
   "cell_type": "code",
   "execution_count": 23,
   "metadata": {},
   "outputs": [
    {
     "data": {
      "text/plain": [
       "[{'score': 1.0, 'label': 'short skirt'}]"
      ]
     },
     "execution_count": 23,
     "metadata": {},
     "output_type": "execute_result"
    }
   ],
   "source": [
    "res = pipe(\"temp_frame.jpg\", candidate_labels=[\"short skirt\"], multi_class=True) \n",
    "res"
   ]
  },
  {
   "cell_type": "code",
   "execution_count": 3,
   "metadata": {},
   "outputs": [],
   "source": [
    "short_skirt_score = None\n",
    "for prediction in res:\n",
    "    if prediction['label'] == 'short skirt':\n",
    "        short_skirt_score = prediction['score']\n",
    "        break"
   ]
  },
  {
   "cell_type": "code",
   "execution_count": 11,
   "metadata": {},
   "outputs": [],
   "source": [
    "def classify_image(img_array):\n",
    "    predictions = pipe(img_array, candidate_labels=[\"short skirt\", \"short sleeve\", \"long sleeve\", \"short dress\", \"short pants\", \"short sleeve shirt\", \"short sleeve vest\"])\n",
    "    decoded_predictions =  predictions\n",
    "    return decoded_predictions   \n",
    " \n",
    "def classify_video(video_path):\n",
    "    cap = cv2.VideoCapture(video_path)\n",
    "\n",
    "    while cap.isOpened():\n",
    "        ret, frame = cap.read()\n",
    "\n",
    "        if not ret:\n",
    "            break\n",
    "   \n",
    "        pil_image = Image.fromarray(np.uint8(frame)) \n",
    "        predicted_class = classify_image(pil_image) \n",
    "\n",
    "        short_skirt_score = None\n",
    "        for prediction in predicted_class:\n",
    "            if prediction['label'] == 'short skirt':\n",
    "                short_skirt_score = prediction['score']\n",
    "                break\n",
    "\n",
    "        if short_skirt_score > 0.7:\n",
    "            print(\"Video Error! The person is wearing a short skirt\")\n",
    "            cap.release()\n",
    "            cv2.destroyAllWindows() \n",
    "            return \n",
    "\n",
    "        cv2.putText(frame, f'Prediction: {short_skirt_score}', (10, 30), cv2.FONT_HERSHEY_SIMPLEX, 1, (0, 255, 0), 2)\n",
    "        cv2.imshow('Video Classification', frame)\n",
    " \n",
    "        if cv2.waitKey(25) & 0xFF == ord('q'):\n",
    "            break\n",
    " \n",
    "    cap.release()\n",
    "    cv2.destroyAllWindows() \n",
    "    print(\"Video OK! No Inappropriate Content Detected\")\n",
    "\n",
    "video_path = 'test.mp4' \n",
    "classify_video(video_path)"
   ]
  },
  {
   "cell_type": "code",
   "execution_count": null,
   "metadata": {},
   "outputs": [],
   "source": []
  }
 ],
 "metadata": {
  "kernelspec": {
   "display_name": "Python 3",
   "language": "python",
   "name": "python3"
  },
  "language_info": {
   "codemirror_mode": {
    "name": "ipython",
    "version": 3
   },
   "file_extension": ".py",
   "mimetype": "text/x-python",
   "name": "python",
   "nbconvert_exporter": "python",
   "pygments_lexer": "ipython3",
   "version": "3.11.4"
  },
  "orig_nbformat": 4
 },
 "nbformat": 4,
 "nbformat_minor": 2
}
